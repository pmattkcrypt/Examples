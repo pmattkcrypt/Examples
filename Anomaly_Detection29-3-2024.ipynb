{
  "cells": [
    {
      "cell_type": "markdown",
      "metadata": {
        "colab_type": "text",
        "id": "view-in-github"
      },
      "source": [
        "<a href=\"https://colab.research.google.com/github/kdemertzis/EKPA/blob/main/Anomaly_Detection.ipynb\" target=\"_parent\"><img src=\"https://colab.research.google.com/assets/colab-badge.svg\" alt=\"Open In Colab\"/></a>"
      ]
    },
    {
      "cell_type": "code",
      "execution_count": null,
      "metadata": {
        "colab": {
          "base_uri": "https://localhost:8080/"
        },
        "id": "7y4_o32EG8c0",
        "outputId": "96088673-9672-478a-d15a-50ae74a66331"
      },
      "outputs": [],
      "source": [
        "#εγκατάσταση πακέτου PyOD (https://pyod.readthedocs.io/en/latest/)\n",
        "!pip install pyod"
      ]
    },
    {
      "cell_type": "code",
      "execution_count": null,
      "metadata": {
        "id": "ZuEgP2MsOGWs"
      },
      "outputs": [],
      "source": [
        "#εισαγωγή βιβλιοθηκών - πακέτων\n",
        "import pandas as pd\n",
        "from sklearn.preprocessing import StandardScaler\n",
        "from pyod.models.ecod import ECOD\n",
        "import matplotlib.pyplot as plt"
      ]
    },
    {
      "cell_type": "code",
      "execution_count": null,
      "metadata": {
        "id": "d3FfkblWOOy7"
      },
      "outputs": [],
      "source": [
        "#εισαγωγή του συνόλου δεδομένων\n",
        "network_data = pd.read_csv('https://raw.githubusercontent.com/kdemertzis/EKPA/main/Data/network_traffic_data.csv', delimiter=',')"
      ]
    },
    {
      "cell_type": "code",
      "execution_count": null,
      "metadata": {
        "id": "n7sMm4xAOTut"
      },
      "outputs": [],
      "source": [
        "#εξαγωγή χαρακτηριστικών (ανεξάρτητων μεταβλητών) για την αναγνώριση ανωμαλιών\n",
        "features = ['src_port', 'dest_port', 'packet_size', 'num_packets',\n",
        "            'flow_duration', 'bytes_transferred', 'packet_rate']\n",
        "\n",
        "X = network_data[features].values"
      ]
    },
    {
      "cell_type": "code",
      "execution_count": null,
      "metadata": {
        "id": "gFY780eBOWvB"
      },
      "outputs": [],
      "source": [
        "#κλιμάκωση δεδομένων\n",
        "scaler = StandardScaler()\n",
        "X_scaled = scaler.fit_transform(X)"
      ]
    },
    {
      "cell_type": "code",
      "execution_count": null,
      "metadata": {
        "colab": {
          "base_uri": "https://localhost:8080/"
        },
        "id": "s07WILloOZPj",
        "outputId": "095f6d74-2753-4702-c209-d8174e2fe5ac"
      },
      "outputs": [],
      "source": [
        "#χρήση αλγορίθμου Isolation Forest\n",
        "model = ECOD(contamination=0.02, random_state=42)\n",
        "model.fit(X_scaled)"
      ]
    },
    {
      "cell_type": "code",
      "execution_count": null,
      "metadata": {
        "id": "LnZEmZTpObp5"
      },
      "outputs": [],
      "source": [
        "#πρόβλεψη βαθμού ανωμαλίας (anomaly score)\n",
        "anomaly_scores = model.decision_function(X_scaled)"
      ]
    },
    {
      "cell_type": "code",
      "execution_count": null,
      "metadata": {
        "id": "8MtS9bEHOft9"
      },
      "outputs": [],
      "source": [
        "#προσθήκη βαθμού ανωμαλίας (anomaly score) στο σύνολο δεδομένων\n",
        "network_data['anomaly_score'] = anomaly_scores"
      ]
    },
    {
      "cell_type": "code",
      "execution_count": null,
      "metadata": {
        "colab": {
          "base_uri": "https://localhost:8080/",
          "height": 467
        },
        "id": "Fd-RVCY0Oh4W",
        "outputId": "c828d3ce-9162-4dec-f553-d7e8ff29231c"
      },
      "outputs": [],
      "source": [
        "\n",
        "#οπτικοποίηση αποτελεσμάτων, με μπλε οι τιμές που θεωρούνται κανονικές και με κόκκινο όσες καταγράφονται ως ανωμαλίες\n",
        "colors = ['blue' if score <= model.threshold_ else 'red' for score in anomaly_scores]\n",
        "\n",
        "plt.scatter(network_data.index, anomaly_scores, c=colors, label='Anomaly score')\n",
        "plt.axhline(y=model.threshold_, color='black', linestyle='--', label='Threshold')\n",
        "plt.xlabel('Sample Index')\n",
        "plt.ylabel('Anomaly Score')\n",
        "plt.legend()"
      ]
    },
    {
      "cell_type": "code",
      "execution_count": null,
      "metadata": {
        "colab": {
          "base_uri": "https://localhost:8080/"
        },
        "id": "H0BVMs4IOnr4",
        "outputId": "640326e7-163e-42de-be86-51470ab9609b"
      },
      "outputs": [],
      "source": [
        "#τύπωση των τιμών που εντοπίσθηκαν ως ανωμαλίες\n",
        "anomalies = network_data[network_data['anomaly_score'] > model.threshold_]\n",
        "print(\"Detected Anomalies:\")\n",
        "print(anomalies)"
      ]
    }
  ],
  "metadata": {
    "colab": {
      "authorship_tag": "ABX9TyP3FSMF/eCD1c6EirtrfCez",
      "include_colab_link": true,
      "provenance": []
    },
    "kernelspec": {
      "display_name": "Python 3",
      "name": "python3"
    },
    "language_info": {
      "codemirror_mode": {
        "name": "ipython",
        "version": 3
      },
      "file_extension": ".py",
      "mimetype": "text/x-python",
      "name": "python",
      "nbconvert_exporter": "python",
      "pygments_lexer": "ipython3",
      "version": "3.10.12"
    }
  },
  "nbformat": 4,
  "nbformat_minor": 0
}
