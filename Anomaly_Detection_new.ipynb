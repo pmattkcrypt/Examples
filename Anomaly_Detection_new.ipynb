{
  "cells": [
    {
      "cell_type": "markdown",
      "metadata": {
        "colab_type": "text",
        "id": "view-in-github"
      },
      "source": [
        "<a href=\"https://colab.research.google.com/github/kdemertzis/EKPA/blob/main/Anomaly_Detection.ipynb\" target=\"_parent\"><img src=\"https://colab.research.google.com/assets/colab-badge.svg\" alt=\"Open In Colab\"/></a>"
      ]
    },
    {
      "cell_type": "code",
      "execution_count": null,
      "metadata": {
        "colab": {
          "base_uri": "https://localhost:8080/"
        },
        "id": "7y4_o32EG8c0",
        "outputId": "96088673-9672-478a-d15a-50ae74a66331"
      },
      "outputs": [],
      "source": [
        "#εγκατάσταση πακέτου PyOD (https://pyod.readthedocs.io/en/latest/)\n",
        "!pip install pyod"
      ]
    },
    {
      "cell_type": "code",
      "execution_count": null,
      "metadata": {
        "id": "ZuEgP2MsOGWs"
      },
      "outputs": [],
      "source": [
        "#εισαγωγή βιβλιοθηκών - πακέτων\n",
        "import pandas as pd\n",
        "from sklearn.preprocessing import StandardScaler\n",
        "from pyod.models.ecod import ECOD\n",
        "import matplotlib.pyplot as plt"
      ]
    },
    {
      "cell_type": "code",
      "execution_count": null,
      "metadata": {
        "id": "d3FfkblWOOy7"
      },
      "outputs": [],
      "source": [
        "#εισαγωγή του συνόλου δεδομένων\n",
        "network_data = pd.read_csv('https://raw.githubusercontent.com/kdemertzis/EKPA/main/Data/network_traffic_data.csv', delimiter=',')"
      ]
    },
    {
      "cell_type": "code",
      "execution_count": null,
      "metadata": {
        "id": "n7sMm4xAOTut"
      },
      "outputs": [],
      "source": [
        "#εξαγωγή χαρακτηριστικών (ανεξάρτητων μεταβλητών) για την αναγνώριση ανωμαλιών\n",
        "features = ['src_port', 'dest_port', 'packet_size', 'num_packets',\n",
        "            'flow_duration', 'bytes_transferred', 'packet_rate']\n",
        "\n",
        "X = network_data[features].values"
      ]
    },
    {
      "cell_type": "code",
      "execution_count": null,
      "metadata": {
        "id": "gFY780eBOWvB"
      },
      "outputs": [],
      "source": [
        "#κλιμάκωση δεδομένων\n",
        "scaler = StandardScaler()\n",
        "X_scaled = scaler.fit_transform(X)\n",
        "\n",
        "if __name__ == \"__main__\":\n",
        "    contamination = 0.1  # percentage of outliers\n",
        "    n_train = 200  # number of training points\n",
        "    n_test = 100  # number of testing points\n",
        "\n",
        "    # Generate sample data\n",
        "    X_train, X_test, y_train, y_test = \\\n",
        "        generate_data(n_train=n_train,\n",
        "                      n_test=n_test,\n",
        "                      n_features=2,\n",
        "                      contamination=contamination,\n",
        "                      random_state=42)\n",
        "\n",
        "    # train ECOD detector\n",
        "    clf_name = 'ECOD'\n",
        "    clf = ECOD()\n",
        "\n",
        "    # you could try parallel version as well.\n",
        "    # clf = ECOD(n_jobs=2)\n",
        "    clf.fit(X_train)\n",
        "\n",
        "    # get the prediction labels and outlier scores of the training data\n",
        "    y_train_pred = clf.labels_  # binary labels (0: inliers, 1: outliers)\n",
        "    y_train_scores = clf.decision_scores_  # raw outlier scores\n",
        "\n",
        "    # get the prediction on the test data\n",
        "    y_test_pred = clf.predict(X_test)  # outlier labels (0 or 1)\n",
        "    y_test_scores = clf.decision_function(X_test)  # outlier scores\n",
        "\n",
        "    # evaluate and print the results\n",
        "    print(\"\\nOn Training Data:\")\n",
        "    evaluate_print(clf_name, y_train, y_train_scores)\n",
        "    print(\"\\nOn Test Data:\")\n",
        "    evaluate_print(clf_name, y_test, y_test_scores)\n",
        "\n",
        "    # visualize the results\n",
        "    visualize(clf_name, X_train, y_train, X_test, y_test, y_train_pred,\n",
        "              y_test_pred, show_figure=True, save_figure=False)"
      ]
    }
  ],
  "metadata": {
    "colab": {
      "authorship_tag": "ABX9TyP3FSMF/eCD1c6EirtrfCez",
      "include_colab_link": true,
      "provenance": []
    },
    "kernelspec": {
      "display_name": "Python 3",
      "name": "python3"
    },
    "language_info": {
      "codemirror_mode": {
        "name": "ipython",
        "version": 3
      },
      "file_extension": ".py",
      "mimetype": "text/x-python",
      "name": "python",
      "nbconvert_exporter": "python",
      "pygments_lexer": "ipython3",
      "version": "3.10.12"
    }
  },
  "nbformat": 4,
  "nbformat_minor": 0
}
